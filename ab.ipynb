{
  "nbformat": 4,
  "nbformat_minor": 0,
  "metadata": {
    "colab": {
      "provenance": [],
      "authorship_tag": "ABX9TyM2up/gZApDQoyM1OWbQnl+",
      "include_colab_link": true
    },
    "kernelspec": {
      "name": "python3",
      "display_name": "Python 3"
    },
    "language_info": {
      "name": "python"
    }
  },
  "cells": [
    {
      "cell_type": "markdown",
      "metadata": {
        "id": "view-in-github",
        "colab_type": "text"
      },
      "source": [
        "<a href=\"https://colab.research.google.com/github/zahratorki/calculator/blob/main/ab.ipynb\" target=\"_parent\"><img src=\"https://colab.research.google.com/assets/colab-badge.svg\" alt=\"Open In Colab\"/></a>"
      ]
    },
    {
      "cell_type": "code",
      "execution_count": 1,
      "metadata": {
        "id": "_eFwRoz4ufOi"
      },
      "outputs": [],
      "source": [
        "import pandas as pd\n",
        "from sklearn.preprocessing import StandardScaler\n",
        "from sklearn.decomposition import PCA\n",
        "import matplotlib.pyplot as plt"
      ]
    },
    {
      "cell_type": "markdown",
      "source": [
        "# بارگیری دیتاست Abalone"
      ],
      "metadata": {
        "id": "l1TaLDWTp0qw"
      }
    },
    {
      "cell_type": "code",
      "source": [
        "url =\"/content/abalon.csv\""
      ],
      "metadata": {
        "id": "bCRzMwzMwqx-"
      },
      "execution_count": 2,
      "outputs": []
    },
    {
      "cell_type": "code",
      "source": [
        "names = ['Sex', 'Length', 'Diameter', 'Height', 'Whole weight', 'Shucked weight', 'Viscera weight', 'Shell weight', 'Rings']"
      ],
      "metadata": {
        "id": "w7riBssgwxaB"
      },
      "execution_count": 3,
      "outputs": []
    },
    {
      "cell_type": "code",
      "source": [
        "data = pd.read_csv(url, names=names, skiprows=1)"
      ],
      "metadata": {
        "id": "P4AbxZ_7nOcg"
      },
      "execution_count": 15,
      "outputs": []
    },
    {
      "cell_type": "markdown",
      "source": [
        "# جدا کردن متغیرهای ویژگی و متغیر پاسخ"
      ],
      "metadata": {
        "id": "QzwU1dHFqVF5"
      }
    },
    {
      "cell_type": "code",
      "source": [
        "X = data.iloc[:,1:-1]\n",
        "y = data.iloc[:,-1]"
      ],
      "metadata": {
        "id": "eYy3763Cw2C5"
      },
      "execution_count": 16,
      "outputs": []
    },
    {
      "cell_type": "code",
      "source": [
        "print(data.head())"
      ],
      "metadata": {
        "colab": {
          "base_uri": "https://localhost:8080/"
        },
        "id": "j0VMFbgqoUER",
        "outputId": "d168c857-3490-41fc-c201-2c4dba33c099"
      },
      "execution_count": 17,
      "outputs": [
        {
          "output_type": "stream",
          "name": "stdout",
          "text": [
            "  Sex  Length  Diameter  Height  Whole weight  Shucked weight  Viscera weight  \\\n",
            "0   M   0.455     0.365   0.095        0.5140          0.2245          0.1010   \n",
            "1   M   0.350     0.265   0.090        0.2255          0.0995          0.0485   \n",
            "2   F   0.530     0.420   0.135        0.6770          0.2565          0.1415   \n",
            "3   M   0.440     0.365   0.125        0.5160          0.2155          0.1140   \n",
            "4   I   0.330     0.255   0.080        0.2050          0.0895          0.0395   \n",
            "\n",
            "   Shell weight  Rings  \n",
            "0         0.150     15  \n",
            "1         0.070      7  \n",
            "2         0.210      9  \n",
            "3         0.155     10  \n",
            "4         0.055      7  \n"
          ]
        }
      ]
    },
    {
      "cell_type": "markdown",
      "source": [
        "# مقیاس‌کردن داده‌ها"
      ],
      "metadata": {
        "id": "2znRrEIFqeP0"
      }
    },
    {
      "cell_type": "code",
      "source": [
        "scaler = StandardScaler()\n",
        "X_scaled = scaler.fit_transform(X)"
      ],
      "metadata": {
        "id": "lSoKNHoizPqH"
      },
      "execution_count": 18,
      "outputs": []
    },
    {
      "cell_type": "markdown",
      "source": [
        "# اعمال تحلیل ترکیب اصلی (PCA)"
      ],
      "metadata": {
        "id": "aJKD1iRhqkDK"
      }
    },
    {
      "cell_type": "code",
      "source": [
        "pca = PCA()\n",
        "X_pca = pca.fit_transform(X_scaled)"
      ],
      "metadata": {
        "id": "dWPWQU2PzQEW"
      },
      "execution_count": 19,
      "outputs": []
    },
    {
      "cell_type": "markdown",
      "source": [
        "# تعیین توضیحات درصدی واریانس"
      ],
      "metadata": {
        "id": "dj2U2W0hqlwp"
      }
    },
    {
      "cell_type": "code",
      "source": [
        "explained_variance_ratio = pca.explained_variance_ratio_\n",
        "cumulative_explained_variance = explained_variance_ratio.cumsum()"
      ],
      "metadata": {
        "id": "p7wSicJKzaYz"
      },
      "execution_count": 20,
      "outputs": []
    },
    {
      "cell_type": "markdown",
      "source": [
        "# تعداد مؤلفه‌های PCA"
      ],
      "metadata": {
        "id": "11bvQGhmqqUm"
      }
    },
    {
      "cell_type": "code",
      "source": [
        "num_components = len(explained_variance_ratio)"
      ],
      "metadata": {
        "id": "RcPOA0Jo2pqp"
      },
      "execution_count": 21,
      "outputs": []
    },
    {
      "cell_type": "markdown",
      "source": [
        "# نمایش درصد واریانس توضیح داده‌شده توسط هر مؤلفه"
      ],
      "metadata": {
        "id": "rygQpWGwqy_y"
      }
    },
    {
      "cell_type": "code",
      "source": [
        "for i in range(num_components):\n",
        "  print(f\"Component {i+1}: {explained_variance_ratio[i]*100:.2f}%\")"
      ],
      "metadata": {
        "colab": {
          "base_uri": "https://localhost:8080/"
        },
        "id": "tt6qrgjI2p-N",
        "outputId": "63a1fd44-f154-470b-fe35-1c6d1af94811"
      },
      "execution_count": 22,
      "outputs": [
        {
          "output_type": "stream",
          "name": "stdout",
          "text": [
            "Component 1: 90.79%\n",
            "Component 2: 3.99%\n",
            "Component 3: 2.39%\n",
            "Component 4: 1.63%\n",
            "Component 5: 0.92%\n",
            "Component 6: 0.18%\n",
            "Component 7: 0.10%\n"
          ]
        }
      ]
    },
    {
      "cell_type": "markdown",
      "source": [
        "# نمودار درصد واریانس توضیح داده‌شده توسط تعداد مؤلفه‌ها"
      ],
      "metadata": {
        "id": "U9pPxcwuq58M"
      }
    },
    {
      "cell_type": "code",
      "source": [
        " plt.figure(figsize=(10, 6))\n",
        "plt.bar(range(1, num_components + 1), explained_variance_ratio * 100, alpha=0.5, align='center',\n",
        "        label='Explained variance')\n",
        "plt.step(range(1, num_components + 1), cumulative_explained_variance * 100, where='mid',\n",
        "         label='Cumulative explained variance')\n",
        "plt.ylabel('Explained variance ratio (%)')\n",
        "plt.xlabel('Principal components')\n",
        "plt.legend(loc='best')\n",
        "plt.tight_layout()\n",
        "plt.show()"
      ],
      "metadata": {
        "colab": {
          "base_uri": "https://localhost:8080/",
          "height": 459
        },
        "id": "sokTNPQw2w46",
        "outputId": "78566255-a628-4156-e8a6-df3ec2ea8c0d"
      },
      "execution_count": 23,
      "outputs": [
        {
          "output_type": "display_data",
          "data": {
            "text/plain": [
              "<Figure size 1000x600 with 1 Axes>"
            ],
            "image/png": "[encoded data removed]"
          },
          "metadata": {}
        }
      ]
    }
  ]
}